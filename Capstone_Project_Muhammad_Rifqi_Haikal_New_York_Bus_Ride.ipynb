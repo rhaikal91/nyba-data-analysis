{
  "nbformat": 4,
  "nbformat_minor": 0,
  "metadata": {
    "colab": {
      "name": "Capstone Project - Muhammad Rifqi Haikal - New York Bus Ride.ipynb",
      "provenance": [],
      "collapsed_sections": []
    },
    "kernelspec": {
      "display_name": "Python 3",
      "language": "python",
      "name": "python3"
    },
    "language_info": {
      "codemirror_mode": {
        "name": "ipython",
        "version": 3
      },
      "file_extension": ".py",
      "mimetype": "text/x-python",
      "name": "python",
      "nbconvert_exporter": "python",
      "pygments_lexer": "ipython3",
      "version": "3.7.7"
    }
  },
  "cells": [
    {
      "cell_type": "markdown",
      "metadata": {
        "id": "cWDijqRGKn8I"
      },
      "source": [
        "# CAPSTONE PROJECT"
      ]
    },
    {
      "cell_type": "markdown",
      "metadata": {
        "id": "UEnIzR1tlWhB"
      },
      "source": [
        "## Connect Colab to GDrive"
      ]
    },
    {
      "cell_type": "code",
      "metadata": {
        "id": "4Q2pgfwMlbRY",
        "colab": {
          "base_uri": "https://localhost:8080/"
        },
        "outputId": "98d61dce-2b2a-482f-d0c9-a7c51ef01bfe"
      },
      "source": [
        "from google.colab import drive\n",
        "drive.mount('/content/gdrive')"
      ],
      "execution_count": 2,
      "outputs": [
        {
          "output_type": "stream",
          "name": "stdout",
          "text": [
            "Mounted at /content/gdrive\n"
          ]
        }
      ]
    },
    {
      "cell_type": "markdown",
      "metadata": {
        "id": "M6YWX-NtKn8K"
      },
      "source": [
        "## IMPORT PACKAGES"
      ]
    },
    {
      "cell_type": "code",
      "metadata": {
        "id": "MHUsnon5l5yo"
      },
      "source": [
        "import os\n",
        "import pandas as pd\n",
        "from datetime import datetime as dt\n",
        "import seaborn as sns\n",
        "import matplotlib.pyplot as plt\n",
        "import sqlite3\n",
        "import numpy as np"
      ],
      "execution_count": 3,
      "outputs": []
    },
    {
      "cell_type": "code",
      "metadata": {
        "colab": {
          "base_uri": "https://localhost:8080/"
        },
        "id": "8XYwda7oZx7i",
        "outputId": "31b78fc8-b1b5-46ac-f26d-370dc09d0afa"
      },
      "source": [
        "path_data = \"/content/gdrive/MyDrive/DatabaseColab/\"\n",
        "os.listdir(path_data)"
      ],
      "execution_count": 4,
      "outputs": [
        {
          "output_type": "execute_result",
          "data": {
            "text/plain": [
              "['transportation_sales.db',\n",
              " 'narasio_class.db',\n",
              " 'rexon_metals.db',\n",
              " 'weather_stations.db',\n",
              " 'titanic2.csv',\n",
              " 'iris.csv',\n",
              " 'avocado.csv',\n",
              " 'geolocation.csv',\n",
              " 'titanic.csv',\n",
              " 'ride_sharing_new.csv',\n",
              " 'New York Bus Rides.db']"
            ]
          },
          "metadata": {},
          "execution_count": 4
        }
      ]
    },
    {
      "cell_type": "markdown",
      "metadata": {
        "id": "TmfuYV3clcWk"
      },
      "source": [
        "## Connect SQLite to Python"
      ]
    },
    {
      "cell_type": "code",
      "metadata": {
        "id": "v31KzqKnling"
      },
      "source": [
        "conn = sqlite3.connect(path_data + 'New York Bus Rides.db')\n",
        "cur = conn.cursor()"
      ],
      "execution_count": 5,
      "outputs": []
    },
    {
      "cell_type": "markdown",
      "metadata": {
        "id": "031LDaaFlk2t"
      },
      "source": [
        "## Data Preparation Using SQL"
      ]
    },
    {
      "cell_type": "code",
      "metadata": {
        "id": "RjnGaIillubA",
        "colab": {
          "base_uri": "https://localhost:8080/",
          "height": 204
        },
        "outputId": "1fc46132-a5c5-4b34-88df-12ffd024435d"
      },
      "source": [
        "df = pd.read_sql_query('''SELECT bookings.booking_id, searches.user_id, segments.new_segment_tag, segments.yr_wk, searches.search_city FROM bookings\n",
        "                      JOIN searches ON bookings.search_session_id = searches.session_id\n",
        "                      JOIN segments ON searches.user_id = segments.user_id GROUP BY searches.user_id''', conn)\n",
        "df.head()"
      ],
      "execution_count": 5,
      "outputs": [
        {
          "output_type": "execute_result",
          "data": {
            "text/html": [
              "<div>\n",
              "<style scoped>\n",
              "    .dataframe tbody tr th:only-of-type {\n",
              "        vertical-align: middle;\n",
              "    }\n",
              "\n",
              "    .dataframe tbody tr th {\n",
              "        vertical-align: top;\n",
              "    }\n",
              "\n",
              "    .dataframe thead th {\n",
              "        text-align: right;\n",
              "    }\n",
              "</style>\n",
              "<table border=\"1\" class=\"dataframe\">\n",
              "  <thead>\n",
              "    <tr style=\"text-align: right;\">\n",
              "      <th></th>\n",
              "      <th>booking_id</th>\n",
              "      <th>user_id</th>\n",
              "      <th>new_segment_tag</th>\n",
              "      <th>yr_wk</th>\n",
              "      <th>search_city</th>\n",
              "    </tr>\n",
              "  </thead>\n",
              "  <tbody>\n",
              "    <tr>\n",
              "      <th>0</th>\n",
              "      <td>5dc13a7384be79001a617e41</td>\n",
              "      <td>590f60541c36e1000159ca0d</td>\n",
              "      <td>New</td>\n",
              "      <td>2019-45</td>\n",
              "      <td>New York</td>\n",
              "    </tr>\n",
              "    <tr>\n",
              "      <th>1</th>\n",
              "      <td>5decf45c0c017f001a1b1578</td>\n",
              "      <td>596e45aa4380470010df5d74</td>\n",
              "      <td>Retained</td>\n",
              "      <td>2020-12</td>\n",
              "      <td>New York</td>\n",
              "    </tr>\n",
              "    <tr>\n",
              "      <th>2</th>\n",
              "      <td>5dc451597e3985001ab9ec56</td>\n",
              "      <td>597dcfec655e17001034d15a</td>\n",
              "      <td>Inactive</td>\n",
              "      <td>2020-04</td>\n",
              "      <td>New York</td>\n",
              "    </tr>\n",
              "    <tr>\n",
              "      <th>3</th>\n",
              "      <td>5dd953c1fee537001bfa7551</td>\n",
              "      <td>59926bbf5699bd0010f80559</td>\n",
              "      <td>Retained</td>\n",
              "      <td>2020-11</td>\n",
              "      <td>New York</td>\n",
              "    </tr>\n",
              "    <tr>\n",
              "      <th>4</th>\n",
              "      <td>5e6672be5be323001ae46692</td>\n",
              "      <td>5999613da95fcd001097827e</td>\n",
              "      <td>Retained</td>\n",
              "      <td>2020-11</td>\n",
              "      <td>New York</td>\n",
              "    </tr>\n",
              "  </tbody>\n",
              "</table>\n",
              "</div>"
            ],
            "text/plain": [
              "                 booking_id                   user_id  ...    yr_wk search_city\n",
              "0  5dc13a7384be79001a617e41  590f60541c36e1000159ca0d  ...  2019-45    New York\n",
              "1  5decf45c0c017f001a1b1578  596e45aa4380470010df5d74  ...  2020-12    New York\n",
              "2  5dc451597e3985001ab9ec56  597dcfec655e17001034d15a  ...  2020-04    New York\n",
              "3  5dd953c1fee537001bfa7551  59926bbf5699bd0010f80559  ...  2020-11    New York\n",
              "4  5e6672be5be323001ae46692  5999613da95fcd001097827e  ...  2020-11    New York\n",
              "\n",
              "[5 rows x 5 columns]"
            ]
          },
          "metadata": {},
          "execution_count": 5
        }
      ]
    },
    {
      "cell_type": "markdown",
      "metadata": {
        "id": "1DH2ISL0Kn8L"
      },
      "source": [
        "## PROBLEM STATEMENT"
      ]
    },
    {
      "cell_type": "code",
      "metadata": {
        "id": "uoW2-zCjKn8L"
      },
      "source": [
        "# 1. Berapa customer yang sudah berhenti berlanggangan\n",
        "# 2. Rute mana yang populer?\n",
        "# 3. Kapan orang paling sering memesan bis?\n",
        "# 4. Apa OS yang paling banyak digunakan pengguna?"
      ],
      "execution_count": null,
      "outputs": []
    },
    {
      "cell_type": "markdown",
      "metadata": {
        "id": "WlX3RVe4Kn8L"
      },
      "source": [
        "## DATA CLEANSING"
      ]
    },
    {
      "cell_type": "code",
      "metadata": {
        "id": "cAGzDisgKn8M",
        "colab": {
          "base_uri": "https://localhost:8080/"
        },
        "outputId": "85e542af-8388-437d-9f33-a55ec36d544f"
      },
      "source": [
        "# Mencari Missing Data\n",
        "\n",
        "pd.isnull(df).sum()"
      ],
      "execution_count": 6,
      "outputs": [
        {
          "output_type": "execute_result",
          "data": {
            "text/plain": [
              "booking_id         0\n",
              "user_id            0\n",
              "new_segment_tag    0\n",
              "yr_wk              0\n",
              "search_city        0\n",
              "dtype: int64"
            ]
          },
          "metadata": {},
          "execution_count": 6
        }
      ]
    },
    {
      "cell_type": "code",
      "metadata": {
        "colab": {
          "base_uri": "https://localhost:8080/",
          "height": 49
        },
        "id": "yo2kxn4fDP15",
        "outputId": "df887ea4-2f6e-4a56-d661-37f2148732ae"
      },
      "source": [
        "# Mencari Data Duplicate\n",
        "\n",
        "df[df[\"user_id\"].duplicated(keep=False)].sort_values(\"user_id\")"
      ],
      "execution_count": 7,
      "outputs": [
        {
          "output_type": "execute_result",
          "data": {
            "text/html": [
              "<div>\n",
              "<style scoped>\n",
              "    .dataframe tbody tr th:only-of-type {\n",
              "        vertical-align: middle;\n",
              "    }\n",
              "\n",
              "    .dataframe tbody tr th {\n",
              "        vertical-align: top;\n",
              "    }\n",
              "\n",
              "    .dataframe thead th {\n",
              "        text-align: right;\n",
              "    }\n",
              "</style>\n",
              "<table border=\"1\" class=\"dataframe\">\n",
              "  <thead>\n",
              "    <tr style=\"text-align: right;\">\n",
              "      <th></th>\n",
              "      <th>booking_id</th>\n",
              "      <th>user_id</th>\n",
              "      <th>new_segment_tag</th>\n",
              "      <th>yr_wk</th>\n",
              "      <th>search_city</th>\n",
              "    </tr>\n",
              "  </thead>\n",
              "  <tbody>\n",
              "  </tbody>\n",
              "</table>\n",
              "</div>"
            ],
            "text/plain": [
              "Empty DataFrame\n",
              "Columns: [booking_id, user_id, new_segment_tag, yr_wk, search_city]\n",
              "Index: []"
            ]
          },
          "metadata": {},
          "execution_count": 7
        }
      ]
    },
    {
      "cell_type": "code",
      "metadata": {
        "colab": {
          "base_uri": "https://localhost:8080/",
          "height": 49
        },
        "id": "c_VfP9gBqV4Y",
        "outputId": "492f9ba7-fa48-42d5-bc2e-9e2447f6dff6"
      },
      "source": [
        "df[df[\"booking_id\"].duplicated(keep=False)].sort_values(\"booking_id\")"
      ],
      "execution_count": 8,
      "outputs": [
        {
          "output_type": "execute_result",
          "data": {
            "text/html": [
              "<div>\n",
              "<style scoped>\n",
              "    .dataframe tbody tr th:only-of-type {\n",
              "        vertical-align: middle;\n",
              "    }\n",
              "\n",
              "    .dataframe tbody tr th {\n",
              "        vertical-align: top;\n",
              "    }\n",
              "\n",
              "    .dataframe thead th {\n",
              "        text-align: right;\n",
              "    }\n",
              "</style>\n",
              "<table border=\"1\" class=\"dataframe\">\n",
              "  <thead>\n",
              "    <tr style=\"text-align: right;\">\n",
              "      <th></th>\n",
              "      <th>booking_id</th>\n",
              "      <th>user_id</th>\n",
              "      <th>new_segment_tag</th>\n",
              "      <th>yr_wk</th>\n",
              "      <th>search_city</th>\n",
              "    </tr>\n",
              "  </thead>\n",
              "  <tbody>\n",
              "  </tbody>\n",
              "</table>\n",
              "</div>"
            ],
            "text/plain": [
              "Empty DataFrame\n",
              "Columns: [booking_id, user_id, new_segment_tag, yr_wk, search_city]\n",
              "Index: []"
            ]
          },
          "metadata": {},
          "execution_count": 8
        }
      ]
    },
    {
      "cell_type": "code",
      "metadata": {
        "id": "HwRPheJ4DpDT"
      },
      "source": [
        "#Hapus Data Duplicate\n",
        "\n",
        "df = df.drop_duplicates(subset=['user_id']).reset_index()"
      ],
      "execution_count": 9,
      "outputs": []
    },
    {
      "cell_type": "code",
      "metadata": {
        "colab": {
          "base_uri": "https://localhost:8080/",
          "height": 359
        },
        "id": "7QgKfaf4D7YL",
        "outputId": "79984589-3bae-4385-de19-830fb7784de0"
      },
      "source": [
        "df.head(10)"
      ],
      "execution_count": 10,
      "outputs": [
        {
          "output_type": "execute_result",
          "data": {
            "text/html": [
              "<div>\n",
              "<style scoped>\n",
              "    .dataframe tbody tr th:only-of-type {\n",
              "        vertical-align: middle;\n",
              "    }\n",
              "\n",
              "    .dataframe tbody tr th {\n",
              "        vertical-align: top;\n",
              "    }\n",
              "\n",
              "    .dataframe thead th {\n",
              "        text-align: right;\n",
              "    }\n",
              "</style>\n",
              "<table border=\"1\" class=\"dataframe\">\n",
              "  <thead>\n",
              "    <tr style=\"text-align: right;\">\n",
              "      <th></th>\n",
              "      <th>index</th>\n",
              "      <th>booking_id</th>\n",
              "      <th>user_id</th>\n",
              "      <th>new_segment_tag</th>\n",
              "      <th>yr_wk</th>\n",
              "      <th>search_city</th>\n",
              "    </tr>\n",
              "  </thead>\n",
              "  <tbody>\n",
              "    <tr>\n",
              "      <th>0</th>\n",
              "      <td>0</td>\n",
              "      <td>5dc13a7384be79001a617e41</td>\n",
              "      <td>590f60541c36e1000159ca0d</td>\n",
              "      <td>New</td>\n",
              "      <td>2019-45</td>\n",
              "      <td>New York</td>\n",
              "    </tr>\n",
              "    <tr>\n",
              "      <th>1</th>\n",
              "      <td>1</td>\n",
              "      <td>5decf45c0c017f001a1b1578</td>\n",
              "      <td>596e45aa4380470010df5d74</td>\n",
              "      <td>Retained</td>\n",
              "      <td>2020-12</td>\n",
              "      <td>New York</td>\n",
              "    </tr>\n",
              "    <tr>\n",
              "      <th>2</th>\n",
              "      <td>2</td>\n",
              "      <td>5dc451597e3985001ab9ec56</td>\n",
              "      <td>597dcfec655e17001034d15a</td>\n",
              "      <td>Inactive</td>\n",
              "      <td>2020-04</td>\n",
              "      <td>New York</td>\n",
              "    </tr>\n",
              "    <tr>\n",
              "      <th>3</th>\n",
              "      <td>3</td>\n",
              "      <td>5dd953c1fee537001bfa7551</td>\n",
              "      <td>59926bbf5699bd0010f80559</td>\n",
              "      <td>Retained</td>\n",
              "      <td>2020-11</td>\n",
              "      <td>New York</td>\n",
              "    </tr>\n",
              "    <tr>\n",
              "      <th>4</th>\n",
              "      <td>4</td>\n",
              "      <td>5e6672be5be323001ae46692</td>\n",
              "      <td>5999613da95fcd001097827e</td>\n",
              "      <td>Retained</td>\n",
              "      <td>2020-11</td>\n",
              "      <td>New York</td>\n",
              "    </tr>\n",
              "    <tr>\n",
              "      <th>5</th>\n",
              "      <td>5</td>\n",
              "      <td>5e0a4cf6dd0a2b001a3e0b41</td>\n",
              "      <td>59ce3cc92c0ffc0010437eb0</td>\n",
              "      <td>Retained</td>\n",
              "      <td>2020-12</td>\n",
              "      <td>New York</td>\n",
              "    </tr>\n",
              "    <tr>\n",
              "      <th>6</th>\n",
              "      <td>6</td>\n",
              "      <td>5e357829599a53001a403376</td>\n",
              "      <td>59dc81d397b66b000fa5e45b</td>\n",
              "      <td>Inactive</td>\n",
              "      <td>2020-12</td>\n",
              "      <td>New York</td>\n",
              "    </tr>\n",
              "    <tr>\n",
              "      <th>7</th>\n",
              "      <td>7</td>\n",
              "      <td>5e5699e7f8eb76001aef9527</td>\n",
              "      <td>59dcf3ed97b66b000fa62f0b</td>\n",
              "      <td>Retained</td>\n",
              "      <td>2020-12</td>\n",
              "      <td>New York</td>\n",
              "    </tr>\n",
              "    <tr>\n",
              "      <th>8</th>\n",
              "      <td>8</td>\n",
              "      <td>5e60ef135aa572001a8a0145</td>\n",
              "      <td>59dd1c60350a2e000fa82ee5</td>\n",
              "      <td>Retained</td>\n",
              "      <td>2020-11</td>\n",
              "      <td>New York</td>\n",
              "    </tr>\n",
              "    <tr>\n",
              "      <th>9</th>\n",
              "      <td>9</td>\n",
              "      <td>5e552e3c25d4a3001a5d5821</td>\n",
              "      <td>59dd63758f279c000f6e00e3</td>\n",
              "      <td>Retained</td>\n",
              "      <td>2020-11</td>\n",
              "      <td>New York</td>\n",
              "    </tr>\n",
              "  </tbody>\n",
              "</table>\n",
              "</div>"
            ],
            "text/plain": [
              "   index                booking_id  ...    yr_wk search_city\n",
              "0      0  5dc13a7384be79001a617e41  ...  2019-45    New York\n",
              "1      1  5decf45c0c017f001a1b1578  ...  2020-12    New York\n",
              "2      2  5dc451597e3985001ab9ec56  ...  2020-04    New York\n",
              "3      3  5dd953c1fee537001bfa7551  ...  2020-11    New York\n",
              "4      4  5e6672be5be323001ae46692  ...  2020-11    New York\n",
              "5      5  5e0a4cf6dd0a2b001a3e0b41  ...  2020-12    New York\n",
              "6      6  5e357829599a53001a403376  ...  2020-12    New York\n",
              "7      7  5e5699e7f8eb76001aef9527  ...  2020-12    New York\n",
              "8      8  5e60ef135aa572001a8a0145  ...  2020-11    New York\n",
              "9      9  5e552e3c25d4a3001a5d5821  ...  2020-11    New York\n",
              "\n",
              "[10 rows x 6 columns]"
            ]
          },
          "metadata": {},
          "execution_count": 10
        }
      ]
    },
    {
      "cell_type": "markdown",
      "metadata": {
        "id": "QUlpaqeqMFn2"
      },
      "source": [
        "## EXPLORATORY DATA"
      ]
    },
    {
      "cell_type": "code",
      "metadata": {
        "id": "AayCOMwWmVYc",
        "colab": {
          "base_uri": "https://localhost:8080/"
        },
        "outputId": "5bfb03f5-c777-4ccf-8973-b205b69e6284"
      },
      "source": [
        "# Mengetahui Tipe Data\n",
        "\n",
        "df.dtypes"
      ],
      "execution_count": 11,
      "outputs": [
        {
          "output_type": "execute_result",
          "data": {
            "text/plain": [
              "index               int64\n",
              "booking_id         object\n",
              "user_id            object\n",
              "new_segment_tag    object\n",
              "yr_wk              object\n",
              "search_city        object\n",
              "dtype: object"
            ]
          },
          "metadata": {},
          "execution_count": 11
        }
      ]
    },
    {
      "cell_type": "code",
      "metadata": {
        "colab": {
          "base_uri": "https://localhost:8080/"
        },
        "id": "gre8loSkFqLR",
        "outputId": "72eb73ef-383d-4f92-fb2e-2b089c66da2d"
      },
      "source": [
        "#1. Berapa customer yang sudah berhenti berlangganan?\n",
        "\n",
        "jumlah_pelanggan = df['new_segment_tag'].value_counts()\n",
        "jumlah_pelanggan\n",
        "\n",
        "#Terdapat 169 pelanggan yang berhenti berlangganan"
      ],
      "execution_count": 54,
      "outputs": [
        {
          "output_type": "execute_result",
          "data": {
            "text/plain": [
              "Retained    1825\n",
              "Inactive     169\n",
              "New           51\n",
              "Explorer       9\n",
              "Name: new_segment_tag, dtype: int64"
            ]
          },
          "metadata": {},
          "execution_count": 54
        }
      ]
    },
    {
      "cell_type": "code",
      "metadata": {
        "colab": {
          "base_uri": "https://localhost:8080/",
          "height": 317
        },
        "id": "vrukpeN9zYXh",
        "outputId": "02481959-d395-4c4b-91fc-26e672ae8e93"
      },
      "source": [
        "jumlah_pelanggan.plot.bar()"
      ],
      "execution_count": 40,
      "outputs": [
        {
          "output_type": "execute_result",
          "data": {
            "text/plain": [
              "<matplotlib.axes._subplots.AxesSubplot at 0x7efc058ce450>"
            ]
          },
          "metadata": {},
          "execution_count": 40
        },
        {
          "output_type": "display_data",
          "data": {
            "image/png": "[encoded data removed]",
            "text/plain": [
              "<Figure size 432x288 with 1 Axes>"
            ]
          },
          "metadata": {
            "needs_background": "light"
          }
        }
      ]
    },
    {
      "cell_type": "code",
      "metadata": {
        "id": "Gv7m9NwKVyfn"
      },
      "source": [
        "#2. Rute mana yang paling populer?\n",
        "\n",
        "df['search_city'].value_counts()\n",
        "df.to_csv('main_df.csv')"
      ],
      "execution_count": 35,
      "outputs": []
    },
    {
      "cell_type": "code",
      "metadata": {
        "id": "WJPvif_oV9xb"
      },
      "source": [
        "#3. Kapan orang paling sering memesan bis?\n",
        "\n",
        "df_cust = pd.read_sql_query('''SELECT DISTINCT searches.user_id, segments.yr_wk \n",
        "                              FROM searches JOIN segments ON searches.user_id = segments.user_id''', conn)\n",
        "df_cust['yr_wk'] = df_cust['yr_wk'].astype(str)\n",
        "df_cust['yr_wk'] = df_cust['yr_wk'].str.slice(0,4)"
      ],
      "execution_count": 22,
      "outputs": []
    },
    {
      "cell_type": "code",
      "metadata": {
        "id": "xrJXlnO8hyb6"
      },
      "source": [
        "df_cust['yr_wk'] = df_cust['yr_wk'].astype(int)\n",
        "df_cust.to_csv('df_cust.csv')"
      ],
      "execution_count": 34,
      "outputs": []
    },
    {
      "cell_type": "code",
      "metadata": {
        "id": "eCdVpQJNY9sr"
      },
      "source": [
        "jumlah = df_cust.groupby('yr_wk').count()\n",
        "jumlah.to_csv('jumlah.csv')"
      ],
      "execution_count": 33,
      "outputs": []
    },
    {
      "cell_type": "code",
      "metadata": {
        "colab": {
          "base_uri": "https://localhost:8080/",
          "height": 142
        },
        "id": "onH1Ys_s2ND3",
        "outputId": "d455f04f-d69e-477f-9c77-0240471afbb5"
      },
      "source": [
        "jumlah"
      ],
      "execution_count": 53,
      "outputs": [
        {
          "output_type": "execute_result",
          "data": {
            "text/html": [
              "<div>\n",
              "<style scoped>\n",
              "    .dataframe tbody tr th:only-of-type {\n",
              "        vertical-align: middle;\n",
              "    }\n",
              "\n",
              "    .dataframe tbody tr th {\n",
              "        vertical-align: top;\n",
              "    }\n",
              "\n",
              "    .dataframe thead th {\n",
              "        text-align: right;\n",
              "    }\n",
              "</style>\n",
              "<table border=\"1\" class=\"dataframe\">\n",
              "  <thead>\n",
              "    <tr style=\"text-align: right;\">\n",
              "      <th></th>\n",
              "      <th>user_id</th>\n",
              "    </tr>\n",
              "    <tr>\n",
              "      <th>yr_wk</th>\n",
              "      <th></th>\n",
              "    </tr>\n",
              "  </thead>\n",
              "  <tbody>\n",
              "    <tr>\n",
              "      <th>2019</th>\n",
              "      <td>96018</td>\n",
              "    </tr>\n",
              "    <tr>\n",
              "      <th>2020</th>\n",
              "      <td>45439</td>\n",
              "    </tr>\n",
              "  </tbody>\n",
              "</table>\n",
              "</div>"
            ],
            "text/plain": [
              "       user_id\n",
              "yr_wk         \n",
              "2019     96018\n",
              "2020     45439"
            ]
          },
          "metadata": {},
          "execution_count": 53
        }
      ]
    },
    {
      "cell_type": "code",
      "metadata": {
        "colab": {
          "base_uri": "https://localhost:8080/",
          "height": 297
        },
        "id": "OoJsbimKgjat",
        "outputId": "1587e9d8-24f9-463c-b2f9-0fd0a06f8413"
      },
      "source": [
        "jumlah.plot.line()"
      ],
      "execution_count": 31,
      "outputs": [
        {
          "output_type": "execute_result",
          "data": {
            "text/plain": [
              "<matplotlib.axes._subplots.AxesSubplot at 0x7efc059cef50>"
            ]
          },
          "metadata": {},
          "execution_count": 31
        },
        {
          "output_type": "display_data",
          "data": {
            "image/png": "[encoded data removed]",
            "text/plain": [
              "<Figure size 432x288 with 1 Axes>"
            ]
          },
          "metadata": {
            "needs_background": "light"
          }
        }
      ]
    },
    {
      "cell_type": "code",
      "metadata": {
        "id": "45df5z7nzyKA"
      },
      "source": [
        "jumlah_os = pd.read_sql_query(\"SELECT user_device_os, user_device_app_version FROM searches\", conn)\n",
        "value_os = jumlah_os.value_counts()"
      ],
      "execution_count": 6,
      "outputs": []
    },
    {
      "cell_type": "code",
      "metadata": {
        "colab": {
          "base_uri": "https://localhost:8080/"
        },
        "id": "WQPDf6He1QJ6",
        "outputId": "6013fd2c-21c4-4d85-f3cb-18bf8e92bc9b"
      },
      "source": [
        "value_os.groupby"
      ],
      "execution_count": 52,
      "outputs": [
        {
          "output_type": "execute_result",
          "data": {
            "text/plain": [
              "<bound method Series.groupby of user_device_os  user_device_app_version\n",
              "android         286.0                      1247\n",
              "                291.0                      1175\n",
              "                284.0                       549\n",
              "                277.0                       478\n",
              "ios             3390.0                      408\n",
              "                                           ... \n",
              "                3152.0                        1\n",
              "                3161.0                        1\n",
              "                3184.0                        1\n",
              "                3171.0                        1\n",
              "android         46.0                          1\n",
              "Length: 75, dtype: int64>"
            ]
          },
          "metadata": {},
          "execution_count": 52
        }
      ]
    },
    {
      "cell_type": "code",
      "metadata": {
        "id": "vDhN31s3rUa6"
      },
      "source": [
        "jumlah_os.to_csv('jumlah_os.csv')"
      ],
      "execution_count": 7,
      "outputs": []
    },
    {
      "cell_type": "markdown",
      "metadata": {
        "id": "EVYEbWFcLFm5"
      },
      "source": [
        "## REKOMENDASI"
      ]
    },
    {
      "cell_type": "markdown",
      "metadata": {
        "id": "IBOq-p-2yrVR"
      },
      "source": [
        "- Dapat dilakukan program terhadap pelanggan yang sudah lama tidak aktif seperti voucher untuk pelanggan yang sudah lama tidak aktif (return back program)\n",
        "- Untuk pelanggan baru dapat ditingkatkan loyalitasnya\n",
        "- Pelanggan yang sudah lama retained dan sering repeat order dapat diberikan poin untuk loyaltynya\n",
        "- Terjadi penurunan pelanggan pada tahun 2020, harus ditentukan apa penyebabnya, apakah karena pandemi, dsb\n",
        "- Pelanggan tipe eksplorer bisa ditingkatkan menjadi new dengan cara mempermudah untuk memulai pemesanan\n",
        "- Pengguna android lebih banyak dari pengguna iOS, dapat meningkatkan performa aplikasi android untuk kenyamanan pengguna"
      ]
    },
    {
      "cell_type": "markdown",
      "metadata": {
        "id": "uKCnqg6VKn8P"
      },
      "source": [
        "## KESIMPULAN - Create the story"
      ]
    },
    {
      "cell_type": "markdown",
      "metadata": {
        "id": "Y33bMC1h2VnH"
      },
      "source": [
        "Di kota New York, terdapat aplikasi untuk memesan bis secara online, pada tahun 2019 terdapat 96018 pemesanan sedangkan pada tahun 2020 terdapat 45439 pemesanan, rute paling populer adalah sekitar New York, terdapat 1825 pelanggan tetap yang melakukan pemesanan ulang dalam jangka waktu 4 minggu terakhir. Pengguna aplikasi dengan OS Android lebih banyak dibandingkan pengguna IOS, aplikasi android harus lebih ringan dan mudah untuk digunakan."
      ]
    }
  ]
}